{
 "cells": [
  {
   "cell_type": "code",
   "execution_count": 1,
   "metadata": {},
   "outputs": [],
   "source": [
    "import matplotlib.pyplot as plt\n",
    "import numpy as np\n",
    "from abc import abstractmethod    \n",
    "from itertools import cycle\n",
    "from IPython.display import clear_output\n",
    "import time"
   ]
  },
  {
   "cell_type": "code",
   "execution_count": 2,
   "metadata": {},
   "outputs": [],
   "source": [
    "### world frame\n",
    "class Frame(object):\n",
    "    \"\"\"Class for defining the frame in which obstacles and robots live.\"\"\"\n",
    "    \n",
    "    degree = 2\n",
    "    bounds = np.array([[10], \n",
    "                       [10]])\n",
    "    time = 0\n",
    "    dbots = []\n",
    "    obstacles = []\n",
    "    \n",
    "    def __init__(self, dbots=[], obstacles=[], **kwargs):\n",
    "        self.__dict__.update(kwargs)\n",
    "        self.dbots = dbots\n",
    "        self.obstacles = obstacles\n",
    "        \n",
    "    def add_dbot(self, dbot):\n",
    "        assert type(dbot) == Dbot, \"dbot must be a Dbot dawg.\"\n",
    "        self.robots.append(dbot)\n",
    "    \n",
    "    def add_obstacle(self, obstacle):\n",
    "        assert type(obstacle) == RectangleObstacle, \"obstacle must be an Obstacle dawg.\"\n",
    "        self.obstacles.append(obstacle)\n",
    "        \n",
    "    def show_frame(self):\n",
    "        fig, ax = plt.subplots(figsize=(12, 6))\n",
    "        \n",
    "        cycol = cycle(\"bgrcmykw\")\n",
    "        for dbot in self.dbots:\n",
    "            pos = dbot.get_position(self.time)\n",
    "            goal = dbot.get_goal()\n",
    "            col = next(cycol)\n",
    "            ax.plot(pos[0], pos[1], color=col, marker='o', linestyle='dashed', linewidth=2, markersize=12)\n",
    "            ax.plot(goal[0], goal[1], color=col, marker='x', linestyle='dashed', linewidth=2, markersize=12)\n",
    "        \n",
    "        for obstacle in self.obstacles:\n",
    "            obstacle.plot(plt)\n",
    "            rectangle = plt.Rectangle((0,0), 50, 20, fc='blue',ec=\"red\") \n",
    "        ax.set_xlim(0, self.bounds[0])\n",
    "        ax.set_ylim(0, self.bounds[1])\n",
    "        plt.show()"
   ]
  },
  {
   "cell_type": "code",
   "execution_count": 3,
   "metadata": {},
   "outputs": [],
   "source": [
    "class Obstacle(object):\n",
    "    \"\"\"Class used to defines the structure of obstacles\"\"\"\n",
    "    def __init__(self):\n",
    "        super.__init__()\n",
    "    \n",
    "    @abstractmethod\n",
    "    def is_point_inside(self, point):\n",
    "        pass\n",
    "    \n",
    "    @abstractmethod\n",
    "    def is_trajectory_intersected(self, *argv):\n",
    "        pass\n",
    "    \n",
    "    @abstractmethod\n",
    "    def plot(self, plt):\n",
    "        pass\n",
    "\n",
    "class RectangleObstacle(Obstacle):\n",
    "    \"\"\"Class that creates rectangle shaped objects\"\"\"\n",
    "    def __init__(self, bottom_corner, top_corner):        \n",
    "        self.min_x = bottom_corner[0]\n",
    "        self.min_y = bottom_corner[1]\n",
    "        self.max_x = top_corner[0]\n",
    "        self.max_y = top_corner[1]\n",
    "        \n",
    "    def is_point_inside(self, point):\n",
    "        pt_x, pt_y = point[0], point[1]\n",
    "        return self.max_x >= pt_x and self.min_x <= pt_x and self.max_y >= pt_y and self.min_y <= pt_y\n",
    "    \n",
    "    def is_trajectory_intersected(self, *argv):\n",
    "        \"\"\"Method uses disrete collision detection. Will expand to continous detection if needed -- however, we will probably just increase sample rate as needed instead.\"\"\"\n",
    "        return any([self.is_point_inside(point) for point in argv])\n",
    "    \n",
    "    def plot(self, plt):\n",
    "        rectangle = plt.Rectangle((self.min_x,self.min_y), self.max_x - self.min_x,self.max_y-self.min_y, fc='black',ec=\"red\")\n",
    "        plt.gca().add_patch(rectangle)\n",
    "    \n",
    "\n"
   ]
  },
  {
   "cell_type": "code",
   "execution_count": 4,
   "metadata": {},
   "outputs": [
    {
     "data": {
      "image/png": "[encoded data removed]",
      "text/plain": [
       "<Figure size 864x432 with 1 Axes>"
      ]
     },
     "metadata": {
      "needs_background": "light"
     },
     "output_type": "display_data"
    }
   ],
   "source": [
    "class dbot(object):\n",
    "    \"\"\"Class for defining dot represented robots\"\"\"\n",
    "    def __init__(self, goal):\n",
    "        self.goal = goal\n",
    "        \n",
    "    def get_goal(self):\n",
    "        return self.goal\n",
    "    \n",
    "    @abstractmethod\n",
    "    def get_position(self, t):\n",
    "        pass\n",
    "\n",
    "class HomonomicRobot(dbot):\n",
    "    \"\"\"Obstacle less holonomic robot path planner\"\"\"\n",
    "    def __init__(self, init, goal, max_time):\n",
    "        super().__init__(goal)\n",
    "        self.init = init\n",
    "        self.max_time = max_time\n",
    "    \n",
    "    def get_position(self, t):\n",
    "        if t > self.max_time:\n",
    "            return self.goal\n",
    "        return (t / self.max_time) * (self.goal - self.init) + self.init\n",
    "    \n",
    "class BFSInstantHolonomicRobot(dbot):\n",
    "    \"\"\"Obstacle Avoidant BFS holonomic Robot\"\"\"\n",
    "    obs = []\n",
    "    step_size = 1\n",
    "    def __init__(self, init, goal, **kwargs):\n",
    "        super().__init__(goal)\n",
    "        self.__dict__.update(kwargs)\n",
    "        self.init = init  \n",
    "        self.path = self.__find_path()\n",
    "    \n",
    "    def __get_moves(self, current_state):\n",
    "        return [current_state + [[self.step_size], [0]], \n",
    "                current_state + [[-self.step_size], [0]],\n",
    "                current_state + [[0], [self.step_size]],\n",
    "                current_state + [[0], [-self.step_size]]]\n",
    "    \n",
    "    def __find_path(self):\n",
    "        self.visited = [] # List to keep track of visited nodes.\n",
    "        queue = []     #Initialize a queue\n",
    "        self.visited.append(tuple(self.init.ravel()))\n",
    "        queue.append((self.init, [tuple(self.init.ravel())]))\n",
    "\n",
    "        while queue:\n",
    "            s, path = queue.pop(0)\n",
    "            if s[0] == self.goal[0] and s[1] == self.goal[1]:\n",
    "                self.path = path\n",
    "                return path\n",
    "            for neighbour in self.__get_moves(s):\n",
    "                neighbourt = tuple(neighbour.ravel())\n",
    "                if neighbourt not in self.visited and not any([bool(ob.is_point_inside(neighbour)) for ob in self.obs]):\n",
    "                    self.visited.append(neighbourt)\n",
    "                    queue.append((neighbour, path + [neighbourt]))\n",
    "            \n",
    "    def get_position(self, t):\n",
    "        if t >= len(self.path):\n",
    "            return self.path[-1]\n",
    "        return self.path[np.round(t)]\n",
    "    \n",
    "rect = RectangleObstacle(np.array([[4], [3]]), np.array([[5], [8]]))\n",
    "rect2 = RectangleObstacle(np.array([[1], [1]]), np.array([[2], [2]]))\n",
    "InstantBFSBot = BFSInstantHolonomicRobot(np.array([[3.], [4.]]), np.array([[7.], [9.]]), step_size = 0.5, obs = [rect, rect2])\n",
    "InstantBFSBot2 = BFSInstantHolonomicRobot(np.array([[7.], [9.]]), np.array([[0.], [0.]]), step_size = 0.5, obs = [rect, rect2])\n",
    "InstantBFSBot3 = BFSInstantHolonomicRobot(np.array([[3.], [1.]]), np.array([[9.], [9.]]), step_size = 0.5, obs = [rect, rect2])\n",
    "\n",
    "for t in range(50):\n",
    "    clear_output(wait=True)\n",
    "    Frame(dbots=[InstantBFSBot, InstantBFSBot2, InstantBFSBot3], obstacles=[rect, rect2], time = t).show_frame()"
   ]
  },
  {
   "cell_type": "code",
   "execution_count": 26,
   "metadata": {},
   "outputs": [
    {
     "data": {
      "image/png": "[encoded data removed]",
      "text/plain": [
       "<Figure size 864x432 with 1 Axes>"
      ]
     },
     "metadata": {
      "needs_background": "light"
     },
     "output_type": "display_data"
    }
   ],
   "source": [
    "import heapq\n",
    "\n",
    "class PriorityQueue:\n",
    "    def __init__(self):\n",
    "        self.elements = []\n",
    "    \n",
    "    def empty(self) -> bool:\n",
    "        return not self.elements\n",
    "    \n",
    "    def put(self, item, priority):\n",
    "        heapq.heappush(self.elements, (priority, item))\n",
    "    \n",
    "    def get(self):\n",
    "        return heapq.heappop(self.elements)[1]\n",
    "\n",
    "class AStarInstantHolonomicRobot(dbot):\n",
    "    \"\"\"Obstacle Avoidant AStar holonomic Robot\"\"\"\n",
    "    obs = []\n",
    "    step_size = 1\n",
    "    def __init__(self, init, goal, **kwargs):\n",
    "        super().__init__(goal)\n",
    "        self.__dict__.update(kwargs)\n",
    "        self.init = init  \n",
    "        self.path = self.__find_path()\n",
    "    \n",
    "    def __get_moves(self, current_state):\n",
    "        moves = [[self.step_size, 0], [-self.step_size, 0], [0, self.step_size], [0, -self.step_size]]\n",
    "        return [tuple(np.add(current_state, m)) for m in moves]\n",
    "    \n",
    "    def __heuristic(self, a, b) -> float:\n",
    "        (x1, y1) = a\n",
    "        (x2, y2) = b\n",
    "        return abs(x1 - x2) + abs(y1 - y2)\n",
    "\n",
    "    def __find_path(self):\n",
    "        start = tuple(self.init.ravel())\n",
    "        goal = tuple(self.goal.ravel())\n",
    "        frontier = PriorityQueue()\n",
    "        frontier.put((start, [start]), 0)\n",
    "        came_from = {}\n",
    "        cost_so_far = {}\n",
    "        came_from[start] = None\n",
    "        cost_so_far[start] = 0\n",
    "\n",
    "        while not frontier.empty():\n",
    "            current, path = frontier.get()\n",
    "\n",
    "            if current == goal:\n",
    "                self.path = path\n",
    "                return path\n",
    "            \n",
    "            for neighbour in self.__get_moves(current):\n",
    "                new_cost = cost_so_far[current] + self.step_size\n",
    "                \n",
    "                if neighbour not in cost_so_far or new_cost < cost_so_far[neighbour]:\n",
    "                    if not any([bool(ob.is_point_inside(neighbour)) for ob in self.obs]):\n",
    "                        cost_so_far[neighbour] = new_cost\n",
    "                        priority = new_cost + self.__heuristic(neighbour, goal)\n",
    "                        frontier.put((neighbour, path + [neighbour]), priority)\n",
    "                        came_from[neighbour] = current\n",
    "\n",
    "    def get_position(self, t):\n",
    "        if t >= len(self.path):\n",
    "            return self.path[-1]\n",
    "        return self.path[np.round(t)]\n",
    "    \n",
    "rect = RectangleObstacle(np.array([[4], [3]]), np.array([[6], [8]]))\n",
    "rect2 = RectangleObstacle(np.array([[7], [1]]), np.array([[2], [2]]))\n",
    "InstantAStarBot = AStarInstantHolonomicRobot(np.array([[3.], [4.]]), np.array([[7.], [5.]]), step_size = 0.5, obs = [rect, rect2])\n",
    "InstantAStarBot2 = AStarInstantHolonomicRobot(np.array([[7.], [9.]]), np.array([[1.], [1.]]), step_size = 0.5, obs = [rect, rect2])\n",
    "InstantAStarBot3 = AStarInstantHolonomicRobot(np.array([[3.], [1.]]), np.array([[9.], [7.]]), step_size = 0.5, obs = [rect, rect2])\n",
    "\n",
    "for t in range(50):\n",
    "    clear_output(wait=True)\n",
    "    Frame(dbots=[InstantAStarBot, InstantAStarBot2, InstantAStarBot3], obstacles=[rect, rect2], time = t).show_frame()"
   ]
  },
  {
   "cell_type": "code",
   "execution_count": 31,
   "metadata": {},
   "outputs": [
    {
     "ename": "KeyboardInterrupt",
     "evalue": "",
     "output_type": "error",
     "traceback": [
      "\u001b[0;31m---------------------------------------------------------------------------\u001b[0m",
      "\u001b[0;31mKeyboardInterrupt\u001b[0m                         Traceback (most recent call last)",
      "\u001b[0;32m/var/folders/bq/v72gh_b91tv8prrs0xf07dym0000gn/T/ipykernel_19439/623380883.py\u001b[0m in \u001b[0;36m<module>\u001b[0;34m\u001b[0m\n\u001b[1;32m     70\u001b[0m \u001b[0mDynamicAStarBot\u001b[0m \u001b[0;34m=\u001b[0m \u001b[0mAStarDynamicHolonomicRobot\u001b[0m\u001b[0;34m(\u001b[0m\u001b[0mnp\u001b[0m\u001b[0;34m.\u001b[0m\u001b[0marray\u001b[0m\u001b[0;34m(\u001b[0m\u001b[0;34m[\u001b[0m\u001b[0;34m[\u001b[0m\u001b[0;36m3.\u001b[0m\u001b[0;34m]\u001b[0m\u001b[0;34m,\u001b[0m \u001b[0;34m[\u001b[0m\u001b[0;36m4.\u001b[0m\u001b[0;34m]\u001b[0m\u001b[0;34m]\u001b[0m\u001b[0;34m)\u001b[0m\u001b[0;34m,\u001b[0m \u001b[0mnp\u001b[0m\u001b[0;34m.\u001b[0m\u001b[0marray\u001b[0m\u001b[0;34m(\u001b[0m\u001b[0;34m[\u001b[0m\u001b[0;34m[\u001b[0m\u001b[0;36m7.\u001b[0m\u001b[0;34m]\u001b[0m\u001b[0;34m,\u001b[0m \u001b[0;34m[\u001b[0m\u001b[0;36m5.\u001b[0m\u001b[0;34m]\u001b[0m\u001b[0;34m]\u001b[0m\u001b[0;34m)\u001b[0m\u001b[0;34m,\u001b[0m \u001b[0maccel\u001b[0m \u001b[0;34m=\u001b[0m \u001b[0;34m(\u001b[0m\u001b[0;36m1\u001b[0m\u001b[0;34m,\u001b[0m \u001b[0;36m1\u001b[0m\u001b[0;34m)\u001b[0m\u001b[0;34m,\u001b[0m \u001b[0mobs\u001b[0m \u001b[0;34m=\u001b[0m \u001b[0;34m[\u001b[0m\u001b[0mrect\u001b[0m\u001b[0;34m,\u001b[0m \u001b[0mrect2\u001b[0m\u001b[0;34m]\u001b[0m\u001b[0;34m)\u001b[0m\u001b[0;34m\u001b[0m\u001b[0;34m\u001b[0m\u001b[0m\n\u001b[1;32m     71\u001b[0m \u001b[0mDynamicAStarBot2\u001b[0m \u001b[0;34m=\u001b[0m \u001b[0mAStarDynamicHolonomicRobot\u001b[0m\u001b[0;34m(\u001b[0m\u001b[0mnp\u001b[0m\u001b[0;34m.\u001b[0m\u001b[0marray\u001b[0m\u001b[0;34m(\u001b[0m\u001b[0;34m[\u001b[0m\u001b[0;34m[\u001b[0m\u001b[0;36m7.\u001b[0m\u001b[0;34m]\u001b[0m\u001b[0;34m,\u001b[0m \u001b[0;34m[\u001b[0m\u001b[0;36m9.\u001b[0m\u001b[0;34m]\u001b[0m\u001b[0;34m]\u001b[0m\u001b[0;34m)\u001b[0m\u001b[0;34m,\u001b[0m \u001b[0mnp\u001b[0m\u001b[0;34m.\u001b[0m\u001b[0marray\u001b[0m\u001b[0;34m(\u001b[0m\u001b[0;34m[\u001b[0m\u001b[0;34m[\u001b[0m\u001b[0;36m1.\u001b[0m\u001b[0;34m]\u001b[0m\u001b[0;34m,\u001b[0m \u001b[0;34m[\u001b[0m\u001b[0;36m1.\u001b[0m\u001b[0;34m]\u001b[0m\u001b[0;34m]\u001b[0m\u001b[0;34m)\u001b[0m\u001b[0;34m,\u001b[0m \u001b[0maccel\u001b[0m \u001b[0;34m=\u001b[0m \u001b[0;34m(\u001b[0m\u001b[0;36m1\u001b[0m\u001b[0;34m,\u001b[0m \u001b[0;36m1\u001b[0m\u001b[0;34m)\u001b[0m\u001b[0;34m,\u001b[0m \u001b[0mobs\u001b[0m \u001b[0;34m=\u001b[0m \u001b[0;34m[\u001b[0m\u001b[0mrect\u001b[0m\u001b[0;34m,\u001b[0m \u001b[0mrect2\u001b[0m\u001b[0;34m]\u001b[0m\u001b[0;34m)\u001b[0m\u001b[0;34m\u001b[0m\u001b[0;34m\u001b[0m\u001b[0m\n\u001b[0;32m---> 72\u001b[0;31m \u001b[0mDynamicAStarBot3\u001b[0m \u001b[0;34m=\u001b[0m \u001b[0mAStarDynamicHolonomicRobot\u001b[0m\u001b[0;34m(\u001b[0m\u001b[0mnp\u001b[0m\u001b[0;34m.\u001b[0m\u001b[0marray\u001b[0m\u001b[0;34m(\u001b[0m\u001b[0;34m[\u001b[0m\u001b[0;34m[\u001b[0m\u001b[0;36m3.\u001b[0m\u001b[0;34m]\u001b[0m\u001b[0;34m,\u001b[0m \u001b[0;34m[\u001b[0m\u001b[0;36m1.\u001b[0m\u001b[0;34m]\u001b[0m\u001b[0;34m]\u001b[0m\u001b[0;34m)\u001b[0m\u001b[0;34m,\u001b[0m \u001b[0mnp\u001b[0m\u001b[0;34m.\u001b[0m\u001b[0marray\u001b[0m\u001b[0;34m(\u001b[0m\u001b[0;34m[\u001b[0m\u001b[0;34m[\u001b[0m\u001b[0;36m9.\u001b[0m\u001b[0;34m]\u001b[0m\u001b[0;34m,\u001b[0m \u001b[0;34m[\u001b[0m\u001b[0;36m7.\u001b[0m\u001b[0;34m]\u001b[0m\u001b[0;34m]\u001b[0m\u001b[0;34m)\u001b[0m\u001b[0;34m,\u001b[0m \u001b[0maccel\u001b[0m \u001b[0;34m=\u001b[0m \u001b[0;34m(\u001b[0m\u001b[0;36m1\u001b[0m\u001b[0;34m,\u001b[0m \u001b[0;36m1\u001b[0m\u001b[0;34m)\u001b[0m\u001b[0;34m,\u001b[0m \u001b[0mobs\u001b[0m \u001b[0;34m=\u001b[0m \u001b[0;34m[\u001b[0m\u001b[0mrect\u001b[0m\u001b[0;34m,\u001b[0m \u001b[0mrect2\u001b[0m\u001b[0;34m]\u001b[0m\u001b[0;34m)\u001b[0m\u001b[0;34m\u001b[0m\u001b[0;34m\u001b[0m\u001b[0m\n\u001b[0m\u001b[1;32m     73\u001b[0m \u001b[0;34m\u001b[0m\u001b[0m\n\u001b[1;32m     74\u001b[0m \u001b[0;32mfor\u001b[0m \u001b[0mt\u001b[0m \u001b[0;32min\u001b[0m \u001b[0mrange\u001b[0m\u001b[0;34m(\u001b[0m\u001b[0;36m15\u001b[0m\u001b[0;34m)\u001b[0m\u001b[0;34m:\u001b[0m\u001b[0;34m\u001b[0m\u001b[0;34m\u001b[0m\u001b[0m\n",
      "\u001b[0;32m/var/folders/bq/v72gh_b91tv8prrs0xf07dym0000gn/T/ipykernel_19439/623380883.py\u001b[0m in \u001b[0;36m__init__\u001b[0;34m(self, init, goal, **kwargs)\u001b[0m\n\u001b[1;32m     11\u001b[0m         \u001b[0mself\u001b[0m\u001b[0;34m.\u001b[0m\u001b[0m__dict__\u001b[0m\u001b[0;34m.\u001b[0m\u001b[0mupdate\u001b[0m\u001b[0;34m(\u001b[0m\u001b[0mkwargs\u001b[0m\u001b[0;34m)\u001b[0m\u001b[0;34m\u001b[0m\u001b[0;34m\u001b[0m\u001b[0m\n\u001b[1;32m     12\u001b[0m         \u001b[0mself\u001b[0m\u001b[0;34m.\u001b[0m\u001b[0minit\u001b[0m \u001b[0;34m=\u001b[0m \u001b[0minit\u001b[0m\u001b[0;34m\u001b[0m\u001b[0;34m\u001b[0m\u001b[0m\n\u001b[0;32m---> 13\u001b[0;31m         \u001b[0mself\u001b[0m\u001b[0;34m.\u001b[0m\u001b[0mpath\u001b[0m \u001b[0;34m=\u001b[0m \u001b[0mself\u001b[0m\u001b[0;34m.\u001b[0m\u001b[0m__find_path\u001b[0m\u001b[0;34m(\u001b[0m\u001b[0;34m)\u001b[0m\u001b[0;34m\u001b[0m\u001b[0;34m\u001b[0m\u001b[0m\n\u001b[0m\u001b[1;32m     14\u001b[0m \u001b[0;34m\u001b[0m\u001b[0m\n\u001b[1;32m     15\u001b[0m     \u001b[0;32mdef\u001b[0m \u001b[0m__get_moves\u001b[0m\u001b[0;34m(\u001b[0m\u001b[0mself\u001b[0m\u001b[0;34m,\u001b[0m \u001b[0mcurrent_state\u001b[0m\u001b[0;34m)\u001b[0m\u001b[0;34m:\u001b[0m\u001b[0;34m\u001b[0m\u001b[0;34m\u001b[0m\u001b[0m\n",
      "\u001b[0;32m/var/folders/bq/v72gh_b91tv8prrs0xf07dym0000gn/T/ipykernel_19439/623380883.py\u001b[0m in \u001b[0;36m__find_path\u001b[0;34m(self)\u001b[0m\n\u001b[1;32m     51\u001b[0m                 \u001b[0;32mreturn\u001b[0m \u001b[0mpath\u001b[0m\u001b[0;34m\u001b[0m\u001b[0;34m\u001b[0m\u001b[0m\n\u001b[1;32m     52\u001b[0m \u001b[0;34m\u001b[0m\u001b[0m\n\u001b[0;32m---> 53\u001b[0;31m             \u001b[0;32mfor\u001b[0m \u001b[0mneighbour\u001b[0m \u001b[0;32min\u001b[0m \u001b[0mself\u001b[0m\u001b[0;34m.\u001b[0m\u001b[0m__get_moves\u001b[0m\u001b[0;34m(\u001b[0m\u001b[0mcurrent\u001b[0m\u001b[0;34m)\u001b[0m\u001b[0;34m:\u001b[0m\u001b[0;34m\u001b[0m\u001b[0;34m\u001b[0m\u001b[0m\n\u001b[0m\u001b[1;32m     54\u001b[0m                 \u001b[0mnew_cost\u001b[0m \u001b[0;34m=\u001b[0m \u001b[0mcost_so_far\u001b[0m\u001b[0;34m[\u001b[0m\u001b[0mcurrent\u001b[0m\u001b[0;34m]\u001b[0m \u001b[0;34m+\u001b[0m \u001b[0;36m1\u001b[0m\u001b[0;34m\u001b[0m\u001b[0;34m\u001b[0m\u001b[0m\n\u001b[1;32m     55\u001b[0m \u001b[0;34m\u001b[0m\u001b[0m\n",
      "\u001b[0;32m/var/folders/bq/v72gh_b91tv8prrs0xf07dym0000gn/T/ipykernel_19439/623380883.py\u001b[0m in \u001b[0;36m__get_moves\u001b[0;34m(self, current_state)\u001b[0m\n\u001b[1;32m     26\u001b[0m \u001b[0;34m\u001b[0m\u001b[0m\n\u001b[1;32m     27\u001b[0m         \u001b[0mv\u001b[0m \u001b[0;34m=\u001b[0m \u001b[0;34m[\u001b[0m\u001b[0mtuple\u001b[0m\u001b[0;34m(\u001b[0m\u001b[0mnp\u001b[0m\u001b[0;34m.\u001b[0m\u001b[0madd\u001b[0m\u001b[0;34m(\u001b[0m\u001b[0mcurrent_vel\u001b[0m\u001b[0;34m,\u001b[0m \u001b[0mnp\u001b[0m\u001b[0;34m.\u001b[0m\u001b[0mmultiply\u001b[0m\u001b[0;34m(\u001b[0m\u001b[0ma\u001b[0m\u001b[0;34m,\u001b[0m \u001b[0mself\u001b[0m\u001b[0;34m.\u001b[0m\u001b[0mtime\u001b[0m\u001b[0;34m)\u001b[0m\u001b[0;34m)\u001b[0m\u001b[0;34m)\u001b[0m \u001b[0;32mfor\u001b[0m \u001b[0ma\u001b[0m \u001b[0;32min\u001b[0m \u001b[0maccels\u001b[0m\u001b[0;34m]\u001b[0m\u001b[0;34m\u001b[0m\u001b[0;34m\u001b[0m\u001b[0m\n\u001b[0;32m---> 28\u001b[0;31m         \u001b[0mx\u001b[0m \u001b[0;34m=\u001b[0m \u001b[0;34m[\u001b[0m\u001b[0mtuple\u001b[0m\u001b[0;34m(\u001b[0m\u001b[0mnp\u001b[0m\u001b[0;34m.\u001b[0m\u001b[0madd\u001b[0m\u001b[0;34m(\u001b[0m\u001b[0mcurrent_pos\u001b[0m\u001b[0;34m,\u001b[0m \u001b[0mnp\u001b[0m\u001b[0;34m.\u001b[0m\u001b[0madd\u001b[0m\u001b[0;34m(\u001b[0m\u001b[0mnp\u001b[0m\u001b[0;34m.\u001b[0m\u001b[0mmultiply\u001b[0m\u001b[0;34m(\u001b[0m\u001b[0mcurrent_vel\u001b[0m\u001b[0;34m,\u001b[0m \u001b[0mself\u001b[0m\u001b[0;34m.\u001b[0m\u001b[0mtime\u001b[0m\u001b[0;34m)\u001b[0m\u001b[0;34m,\u001b[0m \u001b[0mnp\u001b[0m\u001b[0;34m.\u001b[0m\u001b[0mmultiply\u001b[0m\u001b[0;34m(\u001b[0m\u001b[0;36m0.5\u001b[0m\u001b[0;34m*\u001b[0m\u001b[0mself\u001b[0m\u001b[0;34m.\u001b[0m\u001b[0mtime\u001b[0m\u001b[0;34m**\u001b[0m\u001b[0;36m2\u001b[0m\u001b[0;34m,\u001b[0m \u001b[0ma\u001b[0m\u001b[0;34m)\u001b[0m\u001b[0;34m)\u001b[0m\u001b[0;34m)\u001b[0m\u001b[0;34m)\u001b[0m \u001b[0;32mfor\u001b[0m \u001b[0ma\u001b[0m \u001b[0;32min\u001b[0m \u001b[0maccels\u001b[0m\u001b[0;34m]\u001b[0m\u001b[0;34m\u001b[0m\u001b[0;34m\u001b[0m\u001b[0m\n\u001b[0m\u001b[1;32m     29\u001b[0m         \u001b[0;32mreturn\u001b[0m \u001b[0mlist\u001b[0m\u001b[0;34m(\u001b[0m\u001b[0mzip\u001b[0m\u001b[0;34m(\u001b[0m\u001b[0mx\u001b[0m\u001b[0;34m,\u001b[0m \u001b[0mv\u001b[0m\u001b[0;34m)\u001b[0m\u001b[0;34m)\u001b[0m\u001b[0;34m\u001b[0m\u001b[0;34m\u001b[0m\u001b[0m\n\u001b[1;32m     30\u001b[0m \u001b[0;34m\u001b[0m\u001b[0m\n",
      "\u001b[0;32m/var/folders/bq/v72gh_b91tv8prrs0xf07dym0000gn/T/ipykernel_19439/623380883.py\u001b[0m in \u001b[0;36m<listcomp>\u001b[0;34m(.0)\u001b[0m\n\u001b[1;32m     26\u001b[0m \u001b[0;34m\u001b[0m\u001b[0m\n\u001b[1;32m     27\u001b[0m         \u001b[0mv\u001b[0m \u001b[0;34m=\u001b[0m \u001b[0;34m[\u001b[0m\u001b[0mtuple\u001b[0m\u001b[0;34m(\u001b[0m\u001b[0mnp\u001b[0m\u001b[0;34m.\u001b[0m\u001b[0madd\u001b[0m\u001b[0;34m(\u001b[0m\u001b[0mcurrent_vel\u001b[0m\u001b[0;34m,\u001b[0m \u001b[0mnp\u001b[0m\u001b[0;34m.\u001b[0m\u001b[0mmultiply\u001b[0m\u001b[0;34m(\u001b[0m\u001b[0ma\u001b[0m\u001b[0;34m,\u001b[0m \u001b[0mself\u001b[0m\u001b[0;34m.\u001b[0m\u001b[0mtime\u001b[0m\u001b[0;34m)\u001b[0m\u001b[0;34m)\u001b[0m\u001b[0;34m)\u001b[0m \u001b[0;32mfor\u001b[0m \u001b[0ma\u001b[0m \u001b[0;32min\u001b[0m \u001b[0maccels\u001b[0m\u001b[0;34m]\u001b[0m\u001b[0;34m\u001b[0m\u001b[0;34m\u001b[0m\u001b[0m\n\u001b[0;32m---> 28\u001b[0;31m         \u001b[0mx\u001b[0m \u001b[0;34m=\u001b[0m \u001b[0;34m[\u001b[0m\u001b[0mtuple\u001b[0m\u001b[0;34m(\u001b[0m\u001b[0mnp\u001b[0m\u001b[0;34m.\u001b[0m\u001b[0madd\u001b[0m\u001b[0;34m(\u001b[0m\u001b[0mcurrent_pos\u001b[0m\u001b[0;34m,\u001b[0m \u001b[0mnp\u001b[0m\u001b[0;34m.\u001b[0m\u001b[0madd\u001b[0m\u001b[0;34m(\u001b[0m\u001b[0mnp\u001b[0m\u001b[0;34m.\u001b[0m\u001b[0mmultiply\u001b[0m\u001b[0;34m(\u001b[0m\u001b[0mcurrent_vel\u001b[0m\u001b[0;34m,\u001b[0m \u001b[0mself\u001b[0m\u001b[0;34m.\u001b[0m\u001b[0mtime\u001b[0m\u001b[0;34m)\u001b[0m\u001b[0;34m,\u001b[0m \u001b[0mnp\u001b[0m\u001b[0;34m.\u001b[0m\u001b[0mmultiply\u001b[0m\u001b[0;34m(\u001b[0m\u001b[0;36m0.5\u001b[0m\u001b[0;34m*\u001b[0m\u001b[0mself\u001b[0m\u001b[0;34m.\u001b[0m\u001b[0mtime\u001b[0m\u001b[0;34m**\u001b[0m\u001b[0;36m2\u001b[0m\u001b[0;34m,\u001b[0m \u001b[0ma\u001b[0m\u001b[0;34m)\u001b[0m\u001b[0;34m)\u001b[0m\u001b[0;34m)\u001b[0m\u001b[0;34m)\u001b[0m \u001b[0;32mfor\u001b[0m \u001b[0ma\u001b[0m \u001b[0;32min\u001b[0m \u001b[0maccels\u001b[0m\u001b[0;34m]\u001b[0m\u001b[0;34m\u001b[0m\u001b[0;34m\u001b[0m\u001b[0m\n\u001b[0m\u001b[1;32m     29\u001b[0m         \u001b[0;32mreturn\u001b[0m \u001b[0mlist\u001b[0m\u001b[0;34m(\u001b[0m\u001b[0mzip\u001b[0m\u001b[0;34m(\u001b[0m\u001b[0mx\u001b[0m\u001b[0;34m,\u001b[0m \u001b[0mv\u001b[0m\u001b[0;34m)\u001b[0m\u001b[0;34m)\u001b[0m\u001b[0;34m\u001b[0m\u001b[0;34m\u001b[0m\u001b[0m\n\u001b[1;32m     30\u001b[0m \u001b[0;34m\u001b[0m\u001b[0m\n",
      "\u001b[0;31mKeyboardInterrupt\u001b[0m: "
     ]
    }
   ],
   "source": [
    "class AStarDynamicHolonomicRobot(dbot):\n",
    "    \"\"\"Obstacle Avoidant AStar holonomic Robot\"\"\"\n",
    "    obs = []\n",
    "    step_size = 1\n",
    "    time = 0.5\n",
    "    accel = (1, 1)\n",
    "    max_vel = 2\n",
    "    \n",
    "    def __init__(self, init, goal, **kwargs):\n",
    "        super().__init__(goal)\n",
    "        self.__dict__.update(kwargs)\n",
    "        self.init = init  \n",
    "        self.path = self.__find_path()\n",
    "    \n",
    "    def __get_moves(self, current_state):\n",
    "        current_pos = current_state[0]\n",
    "        current_vel = current_state[1]\n",
    "        accels = [(self.accel[0], self.accel[1]), \n",
    "             (self.accel[0], -self.accel[1]), \n",
    "             (-self.accel[0], self.accel[1]), \n",
    "             (-self.accel[0], -self.accel[1]),\n",
    "             (self.accel[0], 0), \n",
    "             (-self.accel[0], 0), \n",
    "             (0, self.accel[1]), \n",
    "             (0, -self.accel[1])]\n",
    "        \n",
    "        v = [tuple(np.add(current_vel, np.multiply(a, self.time))) for a in accels]\n",
    "        x = [tuple(np.add(current_pos, np.add(np.multiply(current_vel, self.time), np.multiply(0.5*self.time**2, a)))) for a in accels]\n",
    "        return list(zip(x, v))\n",
    "    \n",
    "    def __heuristic(self, a, b) -> float:\n",
    "        (x1, y1) = a[0]\n",
    "        (x2, y2) = b[0]\n",
    "        return abs(x1 - x2) + abs(y1 - y2) / self.max_vel\n",
    "\n",
    "    def __find_path(self):\n",
    "        start = tuple(self.init.ravel())\n",
    "        goal = tuple(self.goal.ravel())\n",
    "        frontier = PriorityQueue()\n",
    "        frontier.put(((start, (0, 0)), [(start, (0, 0))]), 0)\n",
    "        came_from = {}\n",
    "        cost_so_far = {}\n",
    "        came_from[(start, (0, 0))] = None\n",
    "        cost_so_far[(start, (0, 0))] = 0\n",
    "\n",
    "        while not frontier.empty():\n",
    "            current, path = frontier.get()\n",
    "            \n",
    "            if current == (goal, (0, 0)):\n",
    "                self.path = path\n",
    "                return path\n",
    "            \n",
    "            for neighbour in self.__get_moves(current):\n",
    "                new_cost = cost_so_far[current] + 1\n",
    "                \n",
    "                if neighbour not in cost_so_far or new_cost < cost_so_far[neighbour]:\n",
    "                    if not any([bool(ob.is_point_inside(neighbour[0])) for ob in self.obs]):\n",
    "                        cost_so_far[neighbour] = new_cost\n",
    "                        priority = new_cost + self.__heuristic(neighbour, (goal, (0, 0)))\n",
    "                        frontier.put((neighbour, path + [neighbour]), priority)\n",
    "                        came_from[neighbour] = current\n",
    "\n",
    "    def get_position(self, t):\n",
    "        if t >= len(self.path):\n",
    "            return self.path[-1][0]\n",
    "        return self.path[np.round(t)][0]\n",
    "\n",
    "rect = RectangleObstacle(np.array([[5], [0]]), np.array([[6], [8]]))\n",
    "rect2 = RectangleObstacle(np.array([[2], [1]]), np.array([[3], [15]]))\n",
    "DynamicAStarBot = AStarDynamicHolonomicRobot(np.array([[3.], [4.]]), np.array([[7.], [5.]]), accel = (1, 1), obs = [rect, rect2])\n",
    "DynamicAStarBot2 = AStarDynamicHolonomicRobot(np.array([[7.], [9.]]), np.array([[1.], [1.]]), accel = (1, 1), obs = [rect, rect2])\n",
    "DynamicAStarBot3 = AStarDynamicHolonomicRobot(np.array([[3.], [1.]]), np.array([[9.], [7.]]), accel = (1, 1), obs = [rect, rect2])\n",
    "\n",
    "for t in range(15):\n",
    "    clear_output(wait=True)\n",
    "    time.sleep(0.25)\n",
    "    Frame(dbots=[DynamicAStarBot, DynamicAStarBot2, DynamicAStarBot3], obstacles=[rect, rect2], time = t).show_frame()"
   ]
  },
  {
   "cell_type": "code",
   "execution_count": 32,
   "metadata": {},
   "outputs": [
    {
     "data": {
      "image/png": "[encoded data removed]",
      "text/plain": [
       "<Figure size 864x432 with 1 Axes>"
      ]
     },
     "metadata": {
      "needs_background": "light"
     },
     "output_type": "display_data"
    }
   ],
   "source": [
    "hol_bot = HomonomicRobot(np.array([[3.], [4.]]), np.array([[5.], [7.]]), 19)\n",
    "for t in range(10):\n",
    "    print(hol_bot.get_position(t))\n",
    "hol_bot2 = HomonomicRobot(np.array([[8.], [9.]]), np.array([[2.], [4.]]), 13)\n",
    "obs = RectangleObstacle(np.array([[3], [1]]), np.array([[6], [2]]))\n",
    "f2 = Frame(dbots=[hol_bot, hol_bot2])\n",
    "f2.add_obstacle(obs)\n",
    "f2.show_frame()\n",
    "for t in range(20):\n",
    "    clear_output(wait=True)\n",
    "    Frame(dbots=[hol_bot, hol_bot2], time = t).show_frame()"
   ]
  },
  {
   "cell_type": "code",
   "execution_count": 30,
   "metadata": {},
   "outputs": [
    {
     "name": "stdout",
     "output_type": "stream",
     "text": [
      "True False\n"
     ]
    }
   ],
   "source": [
    "obs2 = RectangleObstacle(np.array([[4], [3]]), np.array([[5], [8]]))\n",
    "l = [hol_bot2.get_position(t) for t in range(10)]\n",
    "print(obs2.is_trajectory_intersected(*l), obs.is_trajectory_intersected(*l))"
   ]
  },
  {
   "cell_type": "code",
   "execution_count": 35,
   "metadata": {},
   "outputs": [
    {
     "name": "stdout",
     "output_type": "stream",
     "text": [
      "Bot 2's velocity: (0.0, 0.0)\n"
     ]
    },
    {
     "data": {
      "image/png": "[encoded data removed]",
      "text/plain": [
       "<Figure size 864x432 with 1 Axes>"
      ]
     },
     "metadata": {
      "needs_background": "light"
     },
     "output_type": "display_data"
    }
   ],
   "source": [
    "for t in range(18):\n",
    "    clear_output(wait=True)\n",
    "    time.sleep(0.25)\n",
    "    print(f\"Bot 2's velocity: {DynamicAStarBot2.path[t][1]}\")\n",
    "    Frame(dbots=[DynamicAStarBot, DynamicAStarBot2, DynamicAStarBot3], obstacles=[rect, rect2], time = t).show_frame()"
   ]
  },
  {
   "cell_type": "code",
   "execution_count": null,
   "metadata": {},
   "outputs": [],
   "source": []
  },
  {
   "cell_type": "code",
   "execution_count": null,
   "metadata": {},
   "outputs": [],
   "source": []
  }
 ],
 "metadata": {
  "kernelspec": {
   "display_name": "Python 3 (ipykernel)",
   "language": "python",
   "name": "python3"
  },
  "language_info": {
   "codemirror_mode": {
    "name": "ipython",
    "version": 3
   },
   "file_extension": ".py",
   "mimetype": "text/x-python",
   "name": "python",
   "nbconvert_exporter": "python",
   "pygments_lexer": "ipython3",
   "version": "3.7.3"
  }
 },
 "nbformat": 4,
 "nbformat_minor": 2
}
