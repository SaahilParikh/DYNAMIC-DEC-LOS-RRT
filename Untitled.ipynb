{
 "cells": [
  {
   "cell_type": "code",
   "execution_count": 31,
   "metadata": {},
   "outputs": [],
   "source": [
    "import matplotlib.pyplot as plt\n",
    "import numpy as np\n",
    "from abc import abstractmethod    "
   ]
  },
  {
   "cell_type": "code",
   "execution_count": 52,
   "metadata": {},
   "outputs": [],
   "source": [
    "### world frame\n",
    "class Frame:\n",
    "    \"\"\"Class for defining the frame in which obstacles and robots live.\"\"\"\n",
    "    \n",
    "    degree = 2\n",
    "    bounds = np.array([[10], \n",
    "                       [10]])\n",
    "    time = 0\n",
    "    \n",
    "    def __init__(self, dbots=[], obstacles=[], **kwargs):\n",
    "        self.__dict__.update(kwargs)\n",
    "        self.dbots = dbots\n",
    "        self.obstacles = obstacles\n",
    "        \n",
    "    def add_dbot(self, dbot):\n",
    "        assert type(dbot) == Dbot, \"dbot must be a Dbot dawg.\"\n",
    "        self.robots.append(dbot)\n",
    "    \n",
    "    def add_obstacle(self, obstacle):\n",
    "        assert type(obstacle) == Obstacle, \"obstacle must be an Obstacle dawg.\"\n",
    "        self.obstacles.append(obstacle)\n",
    "        \n",
    "    def show_frame(self):\n",
    "        pos = []\n",
    "        for dbot in self.dbots:\n",
    "            pos.append(dbot.get_position(self.time))\n",
    "        pos = np.array(pos)[0]\n",
    "        print(pos, pos[0], pos[1])\n",
    "        plt.plot(pos[0], pos[1])\n",
    "        plt.show()"
   ]
  },
  {
   "cell_type": "code",
   "execution_count": 53,
   "metadata": {},
   "outputs": [],
   "source": [
    "class dbot:\n",
    "    \"\"\"Class for defining dot represented robots\"\"\"\n",
    "    def __init__(self, goal):\n",
    "        self.goal = goal\n",
    "        \n",
    "    def get_goal(self):\n",
    "        return self.goal\n",
    "    \n",
    "    @abstractmethod\n",
    "    def get_position(self, t):\n",
    "        pass"
   ]
  },
  {
   "cell_type": "code",
   "execution_count": 54,
   "metadata": {},
   "outputs": [
    {
     "name": "stdout",
     "output_type": "stream",
     "text": [
      "[[3.]\n",
      " [4.]]\n",
      "[[3.4]\n",
      " [4.6]]\n",
      "[[3.8]\n",
      " [5.2]]\n",
      "[[4.2]\n",
      " [5.8]]\n",
      "[[4.6]\n",
      " [6.4]]\n",
      "[[5.]\n",
      " [7.]]\n",
      "[[5.]\n",
      " [7.]]\n",
      "[[5.]\n",
      " [7.]]\n",
      "[[5.]\n",
      " [7.]]\n",
      "[[5.]\n",
      " [7.]]\n"
     ]
    }
   ],
   "source": [
    "class HomonomicRobot(dbot):\n",
    "    \"\"\"Obstacle less holonomic robot path planner\"\"\"\n",
    "    def __init__(self, init, goal, max_time):\n",
    "        self.init = init\n",
    "        self.goal = goal\n",
    "        self.max_time = max_time\n",
    "    \n",
    "    def get_position(self, t):\n",
    "        if t > self.max_time:\n",
    "            return self.goal\n",
    "        return (t / self.max_time) * (self.goal - self.init) + self.init\n",
    "\n",
    "hol_bot = HomonomicRobot(np.array([[3.], [4.]]), np.array([[5.], [7.]]), 5)\n",
    "for t in range(10):\n",
    "    print(hol_bot.get_position(t))"
   ]
  },
  {
   "cell_type": "code",
   "execution_count": 55,
   "metadata": {},
   "outputs": [
    {
     "name": "stdout",
     "output_type": "stream",
     "text": [
      "[[3.]\n",
      " [4.]] [3.] [4.]\n"
     ]
    },
    {
     "data": {
      "image/png": "[encoded data removed]",
      "text/plain": [
       "<Figure size 432x288 with 1 Axes>"
      ]
     },
     "metadata": {
      "needs_background": "light"
     },
     "output_type": "display_data"
    }
   ],
   "source": [
    "f = Frame(dbots=[hol_bot])\n",
    "f.show_frame()"
   ]
  },
  {
   "cell_type": "code",
   "execution_count": null,
   "metadata": {},
   "outputs": [],
   "source": []
  },
  {
   "cell_type": "code",
   "execution_count": null,
   "metadata": {},
   "outputs": [],
   "source": []
  }
 ],
 "metadata": {
  "kernelspec": {
   "display_name": "Python 3 (ipykernel)",
   "language": "python",
   "name": "python3"
  },
  "language_info": {
   "codemirror_mode": {
    "name": "ipython",
    "version": 3
   },
   "file_extension": ".py",
   "mimetype": "text/x-python",
   "name": "python",
   "nbconvert_exporter": "python",
   "pygments_lexer": "ipython3",
   "version": "3.7.3"
  }
 },
 "nbformat": 4,
 "nbformat_minor": 2
}
